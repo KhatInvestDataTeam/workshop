{
 "cells": [
  {
   "cell_type": "markdown",
   "metadata": {},
   "source": [
    "<div style=\"color:white;\n",
    "            display:fill;\n",
    "            border-radius:20px;\n",
    "            background-color:black;\n",
    "            font-size:100%;\n",
    "            font-family:Verdana;\n",
    "            letter-spacing:1px\">\n",
    "    <h1 style='padding: 20px;\n",
    "              color:white;\n",
    "              text-align:center;'>\n",
    "        Jupyter Notebook Stuff\n",
    "    </h1>\n",
    "    </div>\n",
    "    "
   ]
  },
  {
   "cell_type": "markdown",
   "metadata": {},
   "source": [
    "**Table of contents**<a id='toc0_'></a>    \n",
    "- [Text Stuff](#toc1_)    \n",
    "- [Other Stuff](#toc2_)    \n",
    "- [Header 1, only one hashtag](#toc3_)    \n",
    "  - [Header 2, two hashtags](#toc3_1_)    \n",
    "    - [Header 3](#toc3_1_1_)    \n",
    "      - [Header 4](#toc3_1_1_1_)    \n",
    "        - [Header 5](#toc3_1_1_1_1_)    \n",
    "          - [Header 6](#toc3_1_1_1_1_1_)    \n",
    "- [Bullet Lists](#toc4_)    \n",
    "- [Numbered Lists](#toc5_)    \n",
    "- [Heading 1 before the line](#toc6_)    \n",
    "- [Line Breaker](#toc7_)    \n",
    "\n",
    "<!-- vscode-jupyter-toc-config\n",
    "\tnumbering=false\n",
    "\tanchor=true\n",
    "\tflat=false\n",
    "\tminLevel=1\n",
    "\tmaxLevel=6\n",
    "\t/vscode-jupyter-toc-config -->\n",
    "<!-- THIS CELL WILL BE REPLACED ON TOC UPDATE. DO NOT WRITE YOUR TEXT IN THIS CELL -->"
   ]
  },
  {
   "cell_type": "markdown",
   "metadata": {},
   "source": [
    "# <a id='toc1_'></a>[Text Stuff](#toc0_)"
   ]
  },
  {
   "cell_type": "markdown",
   "metadata": {},
   "source": [
    "**Two Stars** apparently makes the text BOLD. **NOICE**"
   ]
  },
  {
   "cell_type": "markdown",
   "metadata": {},
   "source": [
    "*One star makes the data ITALIC*"
   ]
  },
  {
   "cell_type": "markdown",
   "metadata": {},
   "source": [
    "- Bold text: __string__ or **string**\n",
    "- Italic text: _string_ or ***string***"
   ]
  },
  {
   "cell_type": "markdown",
   "metadata": {},
   "source": [
    "&#9733;  This is a STAR if anyone needs it some day"
   ]
  },
  {
   "cell_type": "markdown",
   "metadata": {},
   "source": [
    "_______"
   ]
  },
  {
   "cell_type": "markdown",
   "metadata": {},
   "source": [
    "you type more than 3 underscores ___ in a new line, and it becomes a DIVIDER"
   ]
  },
  {
   "cell_type": "markdown",
   "metadata": {},
   "source": [
    "* this is just one star in the beginning of a new line"
   ]
  },
  {
   "cell_type": "markdown",
   "metadata": {},
   "source": [
    "to start a new line in the markdown  \n",
    "we use two spaces after the first line"
   ]
  },
  {
   "cell_type": "markdown",
   "metadata": {},
   "source": [
    "to add emojis install extension called emojisense and put the name of the emoji in between semicolons 👍"
   ]
  },
  {
   "cell_type": "markdown",
   "metadata": {},
   "source": [
    "<font color = 'red'> \n",
    "Random Forest Classification algorithm accuracy is %85.24."
   ]
  },
  {
   "cell_type": "markdown",
   "metadata": {},
   "source": [
    "`This text will looked monospace font.`"
   ]
  },
  {
   "cell_type": "markdown",
   "metadata": {},
   "source": [
    "# <a id='toc2_'></a>[Other Stuff](#toc0_)"
   ]
  },
  {
   "cell_type": "markdown",
   "metadata": {},
   "source": [
    "[link text](http://url)\n",
    "This is [My Kaggle Account](https://www.kaggle.com/ahmetekiz)."
   ]
  },
  {
   "attachments": {
    "images.png": {
     "image/png": "[encoded data removed]"
    }
   },
   "cell_type": "markdown",
   "metadata": {},
   "source": [
    "![images.png](attachment:images.png)"
   ]
  },
  {
   "cell_type": "markdown",
   "metadata": {},
   "source": [
    "# <a id='toc3_'></a>[Header 1, only one hashtag](#toc0_)"
   ]
  },
  {
   "cell_type": "markdown",
   "metadata": {},
   "source": [
    "<div class=\"alert alert-block alert-info\"> \n",
    "<b>Info:</b> \n",
    "Use blue boxes (alert-info) for tips and notes.  If it’s a note, you don’t have to include the word “Note”. \n",
    "</div>"
   ]
  },
  {
   "cell_type": "markdown",
   "metadata": {},
   "source": [
    "<div class=\"alert alert-block alert-warning\">\n",
    "<b>Warning:</b> \n",
    "Use yellow boxes for examples that are not  inside code cells, or use for mathematical formulas if needed.\n",
    "</div>"
   ]
  },
  {
   "cell_type": "markdown",
   "metadata": {},
   "source": [
    "<div class=\"alert alert-block alert-success\">\n",
    "<b>Success:</b> \n",
    "Use green boxes sparingly, and only for some specific  purpose that the other boxes can't cover. For example, if you have a lot  of related content to link to, maybe you decide to use green boxes for  related links from each section of a notebook.\n",
    "</div>"
   ]
  },
  {
   "cell_type": "markdown",
   "metadata": {},
   "source": [
    "<div class=\"alert alert-block alert-danger\"> \n",
    "<b>Danger:</b> \n",
    "In general, avoid the red boxes. These should only be used for actions that might cause data loss or another major issue.\n",
    "</div>"
   ]
  },
  {
   "cell_type": "markdown",
   "metadata": {},
   "source": [
    "## <a id='toc3_1_'></a>[Header 2, two hashtags](#toc0_)"
   ]
  },
  {
   "cell_type": "markdown",
   "metadata": {},
   "source": [
    "### <a id='toc3_1_1_'></a>[Header 3](#toc0_)"
   ]
  },
  {
   "cell_type": "markdown",
   "metadata": {},
   "source": [
    "#### <a id='toc3_1_1_1_'></a>[Header 4](#toc0_)"
   ]
  },
  {
   "cell_type": "markdown",
   "metadata": {},
   "source": [
    "##### <a id='toc3_1_1_1_1_'></a>[Header 5](#toc0_)"
   ]
  },
  {
   "cell_type": "markdown",
   "metadata": {},
   "source": [
    "###### <a id='toc3_1_1_1_1_1_'></a>[Header 6](#toc0_)"
   ]
  },
  {
   "cell_type": "markdown",
   "metadata": {},
   "source": [
    "####### Header 7, there is no header 7"
   ]
  },
  {
   "cell_type": "markdown",
   "metadata": {},
   "source": [
    "# <a id='toc4_'></a>[Bullet Lists](#toc0_)"
   ]
  },
  {
   "cell_type": "markdown",
   "metadata": {},
   "source": [
    "- age: age in years \n",
    "- sex\n",
    "    - 1 = male\n",
    "    - 0 = female\n",
    "- cp: chest pain type (4 values)"
   ]
  },
  {
   "cell_type": "markdown",
   "metadata": {},
   "source": [
    "# <a id='toc5_'></a>[Numbered Lists](#toc0_)"
   ]
  },
  {
   "cell_type": "markdown",
   "metadata": {},
   "source": [
    "1. Numbered item\n",
    "    1. Subs step\n",
    "        1. Second sub step\n",
    "1. Numbered item"
   ]
  },
  {
   "cell_type": "markdown",
   "metadata": {},
   "source": [
    "Normal text. \n",
    "> Text that will be indented when the Markdown is rendered.  \n",
    "> Still in intented text.  \n",
    "\n",
    "Normal Text"
   ]
  },
  {
   "cell_type": "markdown",
   "metadata": {},
   "source": [
    "# <a id='toc6_'></a>[Heading 1 before the line](#toc0_)\n",
    "*** \n",
    "After the line"
   ]
  },
  {
   "cell_type": "markdown",
   "metadata": {},
   "source": [
    "# <a id='toc7_'></a>[Line Breaker](#toc0_)"
   ]
  },
  {
   "cell_type": "markdown",
   "metadata": {},
   "source": [
    "Sometimes markdown doesn’t make line breaks when you want them.\n",
    "To force a linebreak like in this sentence, use the following code: <br>After line breaker."
   ]
  },
  {
   "cell_type": "markdown",
   "metadata": {},
   "source": [
    "<input type=\"checkbox\"> some checked text  \n",
    "<input type=\"checkbox\"> some unchecked text  "
   ]
  },
  {
   "cell_type": "markdown",
   "metadata": {},
   "source": []
  }
 ],
 "metadata": {
  "kernelspec": {
   "display_name": "Python 3",
   "language": "python",
   "name": "python3"
  },
  "language_info": {
   "codemirror_mode": {
    "name": "ipython",
    "version": 3
   },
   "file_extension": ".py",
   "mimetype": "text/x-python",
   "name": "python",
   "nbconvert_exporter": "python",
   "pygments_lexer": "ipython3",
   "version": "3.12.1"
  }
 },
 "nbformat": 4,
 "nbformat_minor": 2
}
